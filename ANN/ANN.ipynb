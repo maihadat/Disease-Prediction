{
 "cells": [
  {
   "cell_type": "markdown",
   "metadata": {},
   "source": [
    "# Artificial Neural Networks Learning\n"
   ]
  },
  {
   "cell_type": "markdown",
   "metadata": {},
   "source": [
    "## Importing library"
   ]
  },
  {
   "cell_type": "code",
   "execution_count": 85,
   "metadata": {},
   "outputs": [],
   "source": [
    "# used for manipulating directory paths\n",
    "import os\n",
    "\n",
    "# Scientific and vector computation for python\n",
    "import numpy as np\n",
    "\n",
    "from scipy import optimize\n",
    "\n",
    "import pandas as pd\n",
    "\n",
    "from sklearn.preprocessing import OneHotEncoder\n",
    "\n",
    "from sklearn.model_selection import train_test_split\n",
    "\n",
    "from sklearn.metrics import classification_report\n",
    "\n",
    "from sklearn.metrics import f1_score\n",
    "\n",
    "import matplotlib.pyplot as plt\n",
    "\n",
    "import utils"
   ]
  },
  {
   "cell_type": "markdown",
   "metadata": {},
   "source": [
    "## Loading the data set and encoding the label"
   ]
  },
  {
   "cell_type": "code",
   "execution_count": 86,
   "metadata": {},
   "outputs": [
    {
     "name": "stdout",
     "output_type": "stream",
     "text": [
      "(5409, 42)\n"
     ]
    }
   ],
   "source": [
    "#  training data stored in arrays X, y\n",
    "df = pd.read_csv(\"out.csv\")\n",
    "\n",
    "ohe = OneHotEncoder()\n",
    "transformed = ohe.fit_transform(df[['Disease']])\n",
    "transformed_disease = transformed.toarray()\n",
    "df = df.drop([\"Disease\"], axis = 1)\n",
    "X = np.array(df, dtype=\"float\")[:, 1:]\n",
    "print(transformed_disease.shape)\n",
    "y = transformed_disease"
   ]
  },
  {
   "cell_type": "code",
   "execution_count": 87,
   "metadata": {},
   "outputs": [
    {
     "name": "stdout",
     "output_type": "stream",
     "text": [
      "(5409, 142)\n",
      "(5409, 42)\n"
     ]
    }
   ],
   "source": [
    "print(X.shape)\n",
    "print(y.shape)"
   ]
  },
  {
   "cell_type": "markdown",
   "metadata": {},
   "source": [
    "## Model representation\n",
    "\n",
    "Our neural network is shown in the following figure.\n",
    "\n",
    "![](neural_network.png)\n",
    "\n",
    "It has 3 layers - an input layer, a hidden layer and an output layer.\n",
    "The training data was loaded into the variables `X` and `y` above."
   ]
  },
  {
   "cell_type": "code",
   "execution_count": 54,
   "metadata": {},
   "outputs": [],
   "source": [
    "# Setup the parameters you will use for this exercise\n",
    "input_layer_size  = 142  # 142 symptoms\n",
    "hidden_layer_size = 10  # 25 hidden units\n",
    "num_labels = 42          # 42 diseases"
   ]
  },
  {
   "cell_type": "markdown",
   "metadata": {},
   "source": [
    "### Activation fucntion:\n",
    "$$ \\text{sigmoid}(z) = g(z) = \\frac{1}{1 + e^{-z}} $$\n",
    "\n"
   ]
  },
  {
   "cell_type": "code",
   "execution_count": 55,
   "metadata": {},
   "outputs": [],
   "source": [
    "def sigmoid(z):\n",
    "    return 1.0 / (1.0 + np.exp(-z))"
   ]
  },
  {
   "cell_type": "code",
   "execution_count": 56,
   "metadata": {},
   "outputs": [
    {
     "name": "stdout",
     "output_type": "stream",
     "text": [
      "0.5\n"
     ]
    }
   ],
   "source": [
    "print(sigmoid(0))"
   ]
  },
  {
   "cell_type": "markdown",
   "metadata": {},
   "source": [
    "### Sigmoid Gradient\n",
    "\n",
    "\n",
    "$$ g'(z) = \\frac{d}{dz} g(z) = g(z)\\left(1-g(z)\\right) $$\n",
    "\n",
    "where\n",
    "\n",
    "$$ \\text{sigmoid}(z) = g(z) = \\frac{1}{1 + e^{-z}} $$"
   ]
  },
  {
   "cell_type": "code",
   "execution_count": 57,
   "metadata": {},
   "outputs": [],
   "source": [
    "def sigmoidGradient(z):\n",
    "    g = sigmoid(z) * (1 - utils.sigmoid(z))\n",
    "    return g"
   ]
  },
  {
   "cell_type": "code",
   "execution_count": 58,
   "metadata": {},
   "outputs": [
    {
     "data": {
      "text/plain": [
       "0.25"
      ]
     },
     "execution_count": 58,
     "metadata": {},
     "output_type": "execute_result"
    }
   ],
   "source": [
    "sigmoidGradient(0)"
   ]
  },
  {
   "cell_type": "markdown",
   "metadata": {},
   "source": [
    "## Random Initialization\n",
    "\n",
    "When training neural networks, it is important to randomly initialize the parameters for symmetry breaking. One effective strategy for random initialization is to randomly select values for $\\Theta^{(l)}$ uniformly in the range $[-\\epsilon_{init}, \\epsilon_{init}]$. You should use $\\epsilon_{init} = 0.12$. This range of values ensures that the parameters are kept small and makes the learning more efficient.\n",
    "\n",
    "<div class=\"alert alert-box alert-warning\">\n",
    "One effective strategy for choosing $\\epsilon_{init}$ is to base it on the number of units in the network. A good choice of $\\epsilon_{init}$ is $\\epsilon_{init} = \\frac{\\sqrt{6}}{\\sqrt{L_{in} + L_{out}}}$ where $L_{in} = s_l$ and $L_{out} = s_{l+1}$ are the number of units in the layers adjacent to $\\Theta^{l}$.\n",
    "</div>\n",
    "\n",
    "Your job is to complete the function `randInitializeWeights` to initialize the weights for $\\Theta$. Modify the function by filling in the following code:\n",
    "\n",
    "```python\n",
    "# Randomly initialize the weights to small values\n",
    "W = np.random.rand(L_out, 1 + L_in) * 2 * epsilon_init - epsilon_init\n",
    "```\n",
    "Note that we give the function an argument for $\\epsilon$ with default value `epsilon_init = 0.12`."
   ]
  },
  {
   "cell_type": "code",
   "execution_count": 71,
   "metadata": {},
   "outputs": [],
   "source": [
    "def randInitializeWeights(L_in, L_out):\n",
    "    \"\"\"\n",
    "    Parameters\n",
    "    ----------\n",
    "    L_in : int\n",
    "        Number of incomming connections.\n",
    "    \n",
    "    L_out : int\n",
    "        Number of outgoing connections. \n",
    "    \n",
    "    epsilon_init : float, optional\n",
    "        Range of values which the weight can take from a uniform \n",
    "        distribution.\n",
    "    \n",
    "    Returns\n",
    "    -------\n",
    "    W : array_like\n",
    "        The weight initialiatized to random values.  Note that W should\n",
    "        be set to a matrix of size(L_out, 1 + L_in) as\n",
    "        the first column of W handles the \"bias\" terms.\n",
    "    ------------\n",
    "    Initialize W randomly so that we break the symmetry while training\n",
    "    the neural network. Note that the first column of W corresponds \n",
    "    to the parameters for the bias unit.\n",
    "    \"\"\"\n",
    "    \n",
    "    epsilon_init = np.sqrt(6) / np.sqrt(L_in + L_out)\n",
    "\n",
    "    W = np.random.rand(L_out, 1 + L_in) * 2 * epsilon_init - epsilon_init\n",
    "    # ============================================================\n",
    "    \n",
    "    return W"
   ]
  },
  {
   "cell_type": "code",
   "execution_count": 72,
   "metadata": {},
   "outputs": [],
   "source": [
    "Theta1 = randInitializeWeights(input_layer_size, hidden_layer_size)\n",
    "Theta2 = randInitializeWeights(hidden_layer_size, num_labels)\n",
    "initial_nn_params = np.concatenate([Theta1.ravel(), Theta2.ravel()], axis=0)"
   ]
  },
  {
   "cell_type": "markdown",
   "metadata": {},
   "source": [
    "## Data summarization"
   ]
  },
  {
   "cell_type": "code",
   "execution_count": 73,
   "metadata": {},
   "outputs": [
    {
     "name": "stdout",
     "output_type": "stream",
     "text": [
      "The size of Theta1 = (10, 143)\n",
      "The size of Theta2 = (42, 11)\n",
      "The size of X = (5409, 142)\n"
     ]
    }
   ],
   "source": [
    "print('The size of Theta1 =', Theta1.shape)\n",
    "print('The size of Theta2 =', Theta2.shape)\n",
    "print('The size of X =', X.shape)"
   ]
  },
  {
   "cell_type": "markdown",
   "metadata": {},
   "source": [
    "## Feedforward and cost function"
   ]
  },
  {
   "cell_type": "markdown",
   "metadata": {},
   "source": [
    "### Feedforward process"
   ]
  },
  {
   "cell_type": "code",
   "execution_count": 74,
   "metadata": {},
   "outputs": [],
   "source": [
    "def predict(Theta1, Theta2, X):\n",
    "    # Useful values\n",
    "    m = X.shape[0]\n",
    "    num_labels = Theta2.shape[0]\n",
    "\n",
    "    p = np.zeros(m)\n",
    "    h1 = sigmoid(np.dot(np.concatenate([np.ones((m, 1)), X], axis=1), Theta1.T))\n",
    "    h2 = sigmoid(np.dot(np.concatenate([np.ones((m, 1)), h1], axis=1), Theta2.T))\n",
    "    p = np.argmax(h2, axis=1)\n",
    "    out = np.zeros((m, num_labels))\n",
    "    for i in range (m):\n",
    "        out[i][p[i]] = 1\n",
    "    return out   "
   ]
  },
  {
   "cell_type": "code",
   "execution_count": 75,
   "metadata": {
    "scrolled": true
   },
   "outputs": [
    {
     "data": {
      "text/plain": [
       "array([[0., 0., 0., ..., 0., 0., 0.],\n",
       "       [0., 0., 0., ..., 0., 0., 0.],\n",
       "       [0., 0., 0., ..., 0., 0., 0.],\n",
       "       ...,\n",
       "       [0., 0., 0., ..., 0., 0., 0.],\n",
       "       [0., 0., 0., ..., 0., 0., 0.],\n",
       "       [0., 0., 0., ..., 0., 0., 0.]])"
      ]
     },
     "execution_count": 75,
     "metadata": {},
     "output_type": "execute_result"
    }
   ],
   "source": [
    "predict(Theta1, Theta2, X)"
   ]
  },
  {
   "cell_type": "markdown",
   "metadata": {},
   "source": [
    "### Neural Network Cost Function"
   ]
  },
  {
   "cell_type": "markdown",
   "metadata": {},
   "source": [
    "The cost function for the neural network (without regularization) is:\n",
    "\n",
    "$$ J(\\theta) = \\frac{1}{m} \\sum_{i=1}^{m}\\sum_{k=1}^{K} \\left[ - y_k^{(i)} \\log \\left( \\left( h_\\theta \\left( x^{(i)} \\right) \\right)_k \\right) - \\left( 1 - y_k^{(i)} \\right) \\log \\left( 1 - \\left( h_\\theta \\left( x^{(i)} \\right) \\right)_k \\right) \\right]$$\n",
    "\n",
    "where $h_\\theta \\left( x^{(i)} \\right)$ is computed as shown in the neural network figure above, and K = 42 is the total number of possible labels. Note that $h_\\theta(x^{(i)})_k = a_k^{(3)}$ is the activation (output value) of the $k^{th}$ output unit. Also, recall that whereas the original labels (in the variable y) were the String that describe the name of the diseases but for the purpose of training a neural network, we need to encode the labels as vectors containing only values 0 or 1 by one hot encoder (a built-in encoder in sklearn lib)\n",
    "\n",
    "$$ y = \n",
    "\\begin{bmatrix} 1 \\\\ 0 \\\\ 0 \\\\\\vdots \\\\ 0 \\end{bmatrix}, \\quad\n",
    "\\begin{bmatrix} 0 \\\\ 1 \\\\ 0 \\\\ \\vdots \\\\ 0 \\end{bmatrix}, \\quad \\cdots  \\quad \\text{or} \\qquad\n",
    "\\begin{bmatrix} 0 \\\\ 0 \\\\ 0 \\\\ \\vdots \\\\ 1 \\end{bmatrix}.\n",
    "$$"
   ]
  },
  {
   "cell_type": "code",
   "execution_count": 76,
   "metadata": {},
   "outputs": [],
   "source": [
    "def nnCostFunction(nn_params,\n",
    "                   input_layer_size,\n",
    "                   hidden_layer_size,\n",
    "                   num_labels,\n",
    "                   X, y, lambda_=0.0):\n",
    "    \"\"\"\n",
    "    Implements the neural network cost function and gradient for a two layer neural \n",
    "    network which performs classification. \n",
    " \n",
    "    Returns\n",
    "    -------\n",
    "    J : float\n",
    "        The computed value for the cost function at the current weight values.\n",
    "    \n",
    "    grad : array_like\n",
    "        An \"unrolled\" vector of the partial derivatives of the concatenatation of\n",
    "        neural network weights Theta1 and Theta2.\n",
    "    \"\"\"\n",
    "    # Reshape nn_params back into the parameters Theta1 and Theta2, the weight matrices\n",
    "    # for our 2 layer neural network\n",
    "    Theta1 = np.reshape(nn_params[:hidden_layer_size * (input_layer_size + 1)],\n",
    "                        (hidden_layer_size, (input_layer_size + 1)))\n",
    "\n",
    "    Theta2 = np.reshape(nn_params[(hidden_layer_size * (input_layer_size + 1)):],\n",
    "                        (num_labels, (hidden_layer_size + 1)))\n",
    "\n",
    "    # Setup some useful variables\n",
    "    m = y.shape[0]\n",
    "    # You need to return the following variables correctly \n",
    "    J = 0\n",
    "    Theta1_grad = np.zeros(Theta1.shape)\n",
    "    Theta2_grad = np.zeros(Theta2.shape)\n",
    "    # ======================= Feed_forward ==================\n",
    "    X = np.concatenate([np.ones((m,1)), X], axis = 1)\n",
    "    z_2 = X.dot(Theta1.T)\n",
    "    a_2 = utils.sigmoid(z_2)\n",
    "    a_2 = np.concatenate([np.ones((m ,1)), a_2], axis = 1)\n",
    "    h_X = (utils.sigmoid(a_2.dot(Theta2.T)))\n",
    "    \n",
    "    # ===================== Backpropagation unregularized ===================\n",
    "    delta_3 = h_X - y\n",
    "    delta_2 = np.delete(delta_3.dot(Theta2), 0, 1)  * sigmoidGradient(z_2)\n",
    "    \n",
    "    Theta2_grad = (delta_3.T.dot(a_2))/m\n",
    "    Theta1_grad = (delta_2.T.dot(X))/m\n",
    "    \n",
    "    # ====================== Adding the regularization term ==================\n",
    "    for i in range (Theta1.shape[0]):\n",
    "        for j in range (1, Theta1.shape[1]):\n",
    "            Theta1_grad[i,j] = Theta1_grad[i,j] + lambda_/m * Theta1[i,j] \n",
    "    \n",
    "    for i in range (Theta2.shape[0]):\n",
    "        for j in range (1, Theta2.shape[1]):\n",
    "            Theta2_grad[i,j] = Theta2_grad[i,j] + lambda_/m * Theta2[i,j]\n",
    "    # ========================================================================\n",
    "    for i in range (m):\n",
    "        J = J + (-y[i].dot(np.log(h_X[i].T)) - (1 - y[i]).dot(np.log(1- h_X[i].T)))\n",
    "    J  = J/m\n",
    "    # =========================== regularization J ===========================\n",
    "    J = J + lambda_ * (np.sum(Theta1[:,1:]**2) + np.sum(Theta2[:, 1:]**2)) / (2 * m)\n",
    "    # ========================================================================\n",
    "    # Unroll gradients\n",
    "    # grad = np.concatenate([Theta1_grad.ravel(order=order), Theta2_grad.ravel(order=order)])\n",
    "    grad = np.concatenate([Theta1_grad.ravel(), Theta2_grad.ravel()])\n",
    "\n",
    "    return J, grad"
   ]
  },
  {
   "cell_type": "code",
   "execution_count": 77,
   "metadata": {
    "scrolled": true
   },
   "outputs": [
    {
     "name": "stdout",
     "output_type": "stream",
     "text": [
      "Cost at initial parameters: 30.005379 \n"
     ]
    }
   ],
   "source": [
    "lambda_ = 0\n",
    "J, _ = nnCostFunction(initial_nn_params, input_layer_size, hidden_layer_size,\n",
    "                   num_labels, X, y, lambda_)\n",
    "print('Cost at initial parameters: %.6f ' % J)"
   ]
  },
  {
   "cell_type": "markdown",
   "metadata": {},
   "source": [
    "The cost function for neural networks with regularization is given by:\n",
    "\n",
    "\n",
    "$$ J(\\theta) = \\frac{1}{m} \\sum_{i=1}^{m}\\sum_{k=1}^{K} \\left[ - y_k^{(i)} \\log \\left( \\left( h_\\theta \\left( x^{(i)} \\right) \\right)_k \\right) - \\left( 1 - y_k^{(i)} \\right) \\log \\left( 1 - \\left( h_\\theta \\left( x^{(i)} \\right) \\right)_k \\right) \\right] + \\frac{\\lambda}{2 m} \\left[ \\sum_{j=1}^{25} \\sum_{k=1}^{400} \\left( \\Theta_{j,k}^{(1)} \\right)^2 + \\sum_{j=1}^{10} \\sum_{k=1}^{25} \\left( \\Theta_{j,k}^{(2)} \\right)^2 \\right] $$"
   ]
  },
  {
   "cell_type": "code",
   "execution_count": 78,
   "metadata": {},
   "outputs": [
    {
     "name": "stdout",
     "output_type": "stream",
     "text": [
      "Cost at initial parameters with regularization: 30.008653\n"
     ]
    }
   ],
   "source": [
    "# Weight regularization parameter (we set this to 1 here).\n",
    "lambda_ = 1\n",
    "J, _ = nnCostFunction(initial_nn_params, input_layer_size, hidden_layer_size,\n",
    "                      num_labels, X, y, lambda_)\n",
    "\n",
    "print('Cost at initial parameters with regularization: %.6f' % J)"
   ]
  },
  {
   "cell_type": "markdown",
   "metadata": {},
   "source": [
    "## Backpropagation\n",
    "\n",
    "![](backpropagation.png)\n",
    "\n",
    "Given a training example $(x^{(t)}, y^{(t)})$, we will first run a “forward pass” to compute all the activations throughout the network, including the output value of the hypothesis $h_\\theta(x)$. Then, for each node $j$ in layer $l$, we would like to compute an “error term” $\\delta_j^{(l)}$ that measures how much that node was “responsible” for any errors in our output.\n",
    "\n",
    "For an output node, we can directly measure the difference between the network’s activation and the true target value, and use that to define $\\delta_j^{(3)}$ (since layer 3 is the output layer).\n",
    "\n",
    "1. Set the input layer’s values $(a^{(1)})$ to the $t^{th }$training example $x^{(t)}$. Perform a feedforward pass, computing the activations $(z^{(2)}, a^{(2)}, z^{(3)}, a^{(3)})$ for layers 2 and 3. Note that you need to add a `+1` term to ensure that the vectors of activations for layers $a^{(1)}$ and $a^{(2)}$ also include the bias unit. In `numpy`, if a 1 is a column matrix, adding one corresponds to `a_1 = np.concatenate([np.ones((m, 1)), a_1], axis=1)`.\n",
    "\n",
    "1. For each output unit $k$ in layer 3 (the output layer), set \n",
    "$$\\delta_k^{(3)} = \\left(a_k^{(3)} - y_k \\right)$$\n",
    "where $y_k \\in \\{0, 1\\}$ indicates whether the current training example belongs to class $k$ $(y_k = 1)$, or if it belongs to a different class $(y_k = 0)$. You may find logical arrays helpful for this task (explained in the previous programming exercise).\n",
    "\n",
    "1. For the hidden layer $l = 2$, set \n",
    "$$ \\delta^{(2)} = \\left( \\Theta^{(2)} \\right)^T \\delta^{(3)} * g'\\left(z^{(2)} \\right)$$\n",
    "\n",
    "1. Accumulate the gradient from this example using the following formula. Note that you should skip or remove $\\delta_0^{(2)}$. In `numpy`, removing $\\delta_0^{(2)}$ corresponds to `delta_2 = delta_2[1:]`.\n",
    "$$ \\Delta^{(l)} = \\Delta^{(l)} + \\delta^{(l+1)} (a^{(l)})^{(T)} $$\n",
    "\n",
    "1. Obtain the (unregularized) gradient for the neural network cost function by dividing the accumulated gradients by $\\frac{1}{m}$:\n",
    "$$ \\frac{\\partial}{\\partial \\Theta_{ij}^{(l)}} J(\\Theta) = D_{ij}^{(l)} = \\frac{1}{m} \\Delta_{ij}^{(l)}$$"
   ]
  },
  {
   "cell_type": "markdown",
   "metadata": {},
   "source": [
    "## Learning parameters using `scipy.optimize.minimize`\n",
    "\n",
    "After you have successfully implemented the neural network cost function\n",
    "and gradient computation, the next step we will use `scipy`'s minimization to learn a good set parameters."
   ]
  },
  {
   "cell_type": "code",
   "execution_count": 79,
   "metadata": {},
   "outputs": [],
   "source": [
    "options= {'maxiter': 200}\n",
    "\n",
    "#  You should also try different values of lambda\n",
    "lambda_ = 1\n",
    "\n",
    "# Create \"short hand\" for the cost function to be minimized\n",
    "costFunction = lambda p: nnCostFunction(p, input_layer_size,\n",
    "                                        hidden_layer_size,\n",
    "                                        num_labels, X, y, lambda_)\n",
    "\n",
    "# Now, costFunction is a function that takes in only one argument\n",
    "# (the neural network parameters)\n",
    "res = optimize.minimize(costFunction,\n",
    "                        initial_nn_params,\n",
    "                        jac=True,\n",
    "                        method='TNC',\n",
    "                        options=options)\n",
    "\n",
    "# get the solution of the optimization\n",
    "nn_params = res.x\n",
    "        \n",
    "# Obtain Theta1 and Theta2 back from nn_params\n",
    "Theta1 = np.reshape(nn_params[:hidden_layer_size * (input_layer_size + 1)],\n",
    "                    (hidden_layer_size, (input_layer_size + 1)))\n",
    "\n",
    "Theta2 = np.reshape(nn_params[(hidden_layer_size * (input_layer_size + 1)):],\n",
    "                    (num_labels, (hidden_layer_size + 1)))"
   ]
  },
  {
   "cell_type": "code",
   "execution_count": 80,
   "metadata": {},
   "outputs": [
    {
     "name": "stdout",
     "output_type": "stream",
     "text": [
      "Training Set Accuracy: 97.257657\n"
     ]
    }
   ],
   "source": [
    "pred = utils.predict(Theta1, Theta2, X)\n",
    "print('Training Set Accuracy: %f' % (np.mean(pred == y) * 100))"
   ]
  },
  {
   "cell_type": "code",
   "execution_count": 81,
   "metadata": {},
   "outputs": [],
   "source": [
    "X_train, X_test, y_train, y_test = train_test_split(X, y, test_size=0.2)"
   ]
  },
  {
   "cell_type": "code",
   "execution_count": 82,
   "metadata": {},
   "outputs": [],
   "source": [
    "options= {'maxiter': 200}\n",
    "lambda_ = 1\n",
    "costFunction = lambda p: nnCostFunction(p, input_layer_size,\n",
    "                                        hidden_layer_size,\n",
    "                                        num_labels, X_train, y_train, lambda_)\n",
    "\n",
    "res = optimize.minimize(costFunction,\n",
    "                        initial_nn_params,\n",
    "                        jac=True,\n",
    "                        method='TNC',\n",
    "                        options=options)\n",
    "\n",
    "nn_params = res.x\n",
    "\n",
    "Theta1 = np.reshape(nn_params[:hidden_layer_size * (input_layer_size + 1)],\n",
    "                    (hidden_layer_size, (input_layer_size + 1)))\n",
    "\n",
    "Theta2 = np.reshape(nn_params[(hidden_layer_size * (input_layer_size + 1)):],\n",
    "                    (num_labels, (hidden_layer_size + 1)))"
   ]
  },
  {
   "cell_type": "code",
   "execution_count": 83,
   "metadata": {},
   "outputs": [
    {
     "name": "stdout",
     "output_type": "stream",
     "text": [
      "Test Set Accuracy: 97.214154\n"
     ]
    }
   ],
   "source": [
    "pred = utils.predict(Theta1, Theta2, X_test)\n",
    "print('Test Set Accuracy: %f' % (np.mean(pred == y_test) * 100))"
   ]
  },
  {
   "cell_type": "markdown",
   "metadata": {},
   "source": [
    "## Tunning the parameters"
   ]
  },
  {
   "cell_type": "code",
   "execution_count": 89,
   "metadata": {},
   "outputs": [],
   "source": [
    "X_train_cv, X_test, y_train_cv, y_test = train_test_split(X, y, test_size=0.2)"
   ]
  },
  {
   "cell_type": "code",
   "execution_count": 90,
   "metadata": {},
   "outputs": [],
   "source": [
    "X_train, X_cross_val, y_train, y_cross_val = train_test_split(X_train_cv, y_train_cv, test_size=0.25)"
   ]
  },
  {
   "cell_type": "code",
   "execution_count": 91,
   "metadata": {},
   "outputs": [
    {
     "name": "stdout",
     "output_type": "stream",
     "text": [
      "(3245, 142)\n",
      "(1082, 142)\n",
      "(1082, 142)\n"
     ]
    }
   ],
   "source": [
    "print(X_train.shape)\n",
    "print(X_cross_val.shape)\n",
    "print(X_test.shape)"
   ]
  },
  {
   "cell_type": "code",
   "execution_count": 92,
   "metadata": {},
   "outputs": [],
   "source": [
    "input_layer_size  = 142  # 142 symptoms\n",
    "hidden_layer_size_list = np.linspace(1, 50, 50, dtype = int)  # 25 hidden units\n",
    "num_labels = 42          # 42 diseases"
   ]
  },
  {
   "cell_type": "markdown",
   "metadata": {},
   "source": [
    "### increase the number of neurons in hidden layer"
   ]
  },
  {
   "cell_type": "code",
   "execution_count": 28,
   "metadata": {},
   "outputs": [
    {
     "name": "stderr",
     "output_type": "stream",
     "text": [
      "<ipython-input-16-5b8138aca21a>:57: RuntimeWarning: divide by zero encountered in log\n",
      "  J = J + (-y[i].dot(np.log(h_X[i].T)) - (1 - y[i]).dot(np.log(1- h_X[i].T)))\n",
      "<ipython-input-5-478bf6890dec>:2: RuntimeWarning: overflow encountered in exp\n",
      "  return 1.0 / (1.0 + np.exp(-z))\n"
     ]
    }
   ],
   "source": [
    "accuracy_list = []\n",
    "for hidden_layer_size in hidden_layer_size_list:\n",
    "    options= {'maxiter': 200}\n",
    "    lambda_ = 1\n",
    "    \n",
    "    Theta1 = randInitializeWeights(input_layer_size, hidden_layer_size)\n",
    "    Theta2 = randInitializeWeights(hidden_layer_size, num_labels)\n",
    "    initial_nn_params = np.concatenate([Theta1.ravel(), Theta2.ravel()], axis=0)\n",
    "    costFunction = lambda p: nnCostFunction(p, input_layer_size,\n",
    "                                            hidden_layer_size,\n",
    "                                            num_labels, X_train, y_train, lambda_)\n",
    "\n",
    "    res = optimize.minimize(costFunction,\n",
    "                            initial_nn_params,\n",
    "                            jac=True,\n",
    "                            method='TNC',\n",
    "                            options=options)\n",
    "\n",
    "    nn_params = res.x\n",
    "\n",
    "    Theta1 = np.reshape(nn_params[:hidden_layer_size * (input_layer_size + 1)],\n",
    "                        (hidden_layer_size, (input_layer_size + 1)))\n",
    "\n",
    "    Theta2 = np.reshape(nn_params[(hidden_layer_size * (input_layer_size + 1)):],\n",
    "                        (num_labels, (hidden_layer_size + 1)))\n",
    "    pred = utils.predict(Theta1, Theta2, X_cross_val)\n",
    "    accuracy = np.mean(pred == y_cross_val) * 100\n",
    "    accuracy_list.append(accuracy)"
   ]
  },
  {
   "cell_type": "code",
   "execution_count": 93,
   "metadata": {},
   "outputs": [
    {
     "data": {
      "image/png": "[encoded data removed]",
      "text/plain": [
       "<Figure size 432x288 with 1 Axes>"
      ]
     },
     "metadata": {
      "needs_background": "light"
     },
     "output_type": "display_data"
    }
   ],
   "source": [
    "import matplotlib.pyplot as plt\n",
    "plt.plot(hidden_layer_size_list, accuracy_list)\n",
    "plt.grid()\n",
    "plt.show()"
   ]
  },
  {
   "cell_type": "code",
   "execution_count": 98,
   "metadata": {},
   "outputs": [
    {
     "name": "stderr",
     "output_type": "stream",
     "text": [
      "/Users/anhoang/Desktop/devzone/Disease-prediction/utils.py:88: RuntimeWarning: overflow encountered in exp\n",
      "  return 1.0 / (1.0 + np.exp(-z))\n",
      "<ipython-input-55-478bf6890dec>:2: RuntimeWarning: overflow encountered in exp\n",
      "  return 1.0 / (1.0 + np.exp(-z))\n"
     ]
    }
   ],
   "source": [
    "options= {'maxiter': 200}\n",
    "lambda_ = 1\n",
    "hidden_layer_size = 29\n",
    "\n",
    "Theta1 = randInitializeWeights(input_layer_size, hidden_layer_size)\n",
    "Theta2 = randInitializeWeights(hidden_layer_size, num_labels)\n",
    "initial_nn_params = np.concatenate([Theta1.ravel(), Theta2.ravel()], axis=0)\n",
    "costFunction = lambda p: nnCostFunction(p, input_layer_size,\n",
    "                                        hidden_layer_size,\n",
    "                                        num_labels, X_train_cv, y_train_cv, lambda_)\n",
    "\n",
    "res = optimize.minimize(costFunction,\n",
    "                        initial_nn_params,\n",
    "                        jac=True,\n",
    "                        method='TNC',\n",
    "                        options=options)\n",
    "\n",
    "nn_params = res.x\n",
    "\n",
    "Theta1 = np.reshape(nn_params[:hidden_layer_size * (input_layer_size + 1)],\n",
    "                    (hidden_layer_size, (input_layer_size + 1)))\n",
    "\n",
    "Theta2 = np.reshape(nn_params[(hidden_layer_size * (input_layer_size + 1)):],\n",
    "                    (num_labels, (hidden_layer_size + 1)))\n",
    "pred = utils.predict(Theta1, Theta2, X_test)\n",
    "accuracy = np.mean(pred == y_test) * 100"
   ]
  },
  {
   "cell_type": "code",
   "execution_count": 99,
   "metadata": {},
   "outputs": [
    {
     "name": "stdout",
     "output_type": "stream",
     "text": [
      "99.77114690608221\n"
     ]
    }
   ],
   "source": [
    "print(accuracy)"
   ]
  },
  {
   "cell_type": "code",
   "execution_count": 100,
   "metadata": {},
   "outputs": [
    {
     "name": "stdout",
     "output_type": "stream",
     "text": [
      "              precision    recall  f1-score   support\n",
      "\n",
      "           0       0.96      1.00      0.98        27\n",
      "           1       0.96      0.96      0.96        27\n",
      "           2       1.00      0.92      0.96        26\n",
      "           3       0.91      1.00      0.95        29\n",
      "           4       1.00      0.81      0.90        27\n",
      "           5       1.00      0.95      0.98        22\n",
      "           6       0.95      1.00      0.98        20\n",
      "           7       0.96      1.00      0.98        24\n",
      "           8       0.86      0.86      0.86        22\n",
      "           9       0.96      1.00      0.98        26\n",
      "          10       0.96      1.00      0.98        23\n",
      "          11       1.00      1.00      1.00        57\n",
      "          12       0.93      0.93      0.93        29\n",
      "          13       1.00      0.88      0.94        26\n",
      "          14       1.00      0.96      0.98        27\n",
      "          15       0.96      0.96      0.96        25\n",
      "          16       0.86      1.00      0.93        19\n",
      "          17       0.88      1.00      0.94        22\n",
      "          18       1.00      1.00      1.00        23\n",
      "          19       0.96      0.96      0.96        23\n",
      "          20       0.96      0.92      0.94        24\n",
      "          21       0.94      0.89      0.92        19\n",
      "          22       0.78      0.95      0.86        22\n",
      "          23       1.00      0.96      0.98        23\n",
      "          24       1.00      0.96      0.98        26\n",
      "          25       0.96      0.96      0.96        26\n",
      "          26       0.97      0.94      0.96        35\n",
      "          27       0.90      0.96      0.93        27\n",
      "          28       0.85      0.94      0.89        18\n",
      "          29       0.91      0.88      0.89        24\n",
      "          30       1.00      0.97      0.98        31\n",
      "          31       1.00      0.91      0.95        34\n",
      "          32       0.96      1.00      0.98        24\n",
      "          33       0.95      0.88      0.91        24\n",
      "          34       1.00      1.00      1.00        21\n",
      "          35       0.93      0.96      0.95        28\n",
      "          36       0.95      0.95      0.95        21\n",
      "          37       0.90      0.97      0.93        29\n",
      "          38       1.00      0.97      0.98        29\n",
      "          39       1.00      0.90      0.95        20\n",
      "          40       0.96      1.00      0.98        24\n",
      "          41       0.89      0.86      0.88        29\n",
      "\n",
      "   micro avg       0.95      0.95      0.95      1082\n",
      "   macro avg       0.95      0.95      0.95      1082\n",
      "weighted avg       0.95      0.95      0.95      1082\n",
      " samples avg       0.95      0.95      0.95      1082\n",
      "\n"
     ]
    }
   ],
   "source": [
    "print(classification_report(y_test, pred))"
   ]
  },
  {
   "cell_type": "markdown",
   "metadata": {},
   "source": [
    "## Reduce computational workload with separate dataset"
   ]
  },
  {
   "cell_type": "code",
   "execution_count": 33,
   "metadata": {},
   "outputs": [],
   "source": [
    "def pca(X):\n",
    "    # Useful values\n",
    "    m, n = X.shape\n",
    "\n",
    "    U = np.zeros(n)\n",
    "    S = np.zeros(n)\n",
    "\n",
    "    cov_matrix = X.T.dot(X) / m\n",
    "    U, S, V = np.linalg.svd(cov_matrix)\n",
    "    \n",
    "    return U, S\n",
    "\n",
    "def projectData(X, U, K):\n",
    "\n",
    "    Z = np.zeros((X.shape[0], K))\n",
    "\n",
    "    U_k = (U.T[:K]).T\n",
    "    Z = X.dot(U_k)\n",
    "\n",
    "    return Z"
   ]
  },
  {
   "cell_type": "code",
   "execution_count": 34,
   "metadata": {},
   "outputs": [],
   "source": [
    "U, S = pca(X)"
   ]
  },
  {
   "cell_type": "code",
   "execution_count": 115,
   "metadata": {},
   "outputs": [
    {
     "data": {
      "text/plain": [
       "array([1.31347126e+03, 1.49795361e+01, 1.11644569e+01, 7.54970468e+00,\n",
       "       7.00292088e+00, 5.24255361e+00, 4.89772338e+00, 4.72756993e+00,\n",
       "       4.36203842e+00, 3.72124941e+00, 3.51548735e+00, 3.33982194e+00,\n",
       "       3.06977631e+00, 2.98763155e+00, 2.87916406e+00, 2.71336647e+00,\n",
       "       2.38601536e+00, 2.25797015e+00, 2.18454512e+00, 1.98575223e+00,\n",
       "       1.87022105e+00, 1.79841158e+00, 1.74143210e+00, 1.62632938e+00,\n",
       "       1.52043486e+00, 1.35324238e+00, 1.31327983e+00, 1.25182809e+00,\n",
       "       1.18882824e+00, 1.11734556e+00, 9.94964184e-01, 9.89098670e-01,\n",
       "       8.90939733e-01, 8.05149096e-01, 7.30690971e-01, 6.82044223e-01,\n",
       "       6.32389734e-01, 5.87101786e-01, 5.59411457e-01, 4.93630408e-01,\n",
       "       4.74658729e-01, 4.17437378e-01, 3.50528392e-01, 3.36572137e-01,\n",
       "       3.15068096e-01, 3.07543628e-01, 2.19946196e-01, 1.79591042e-01,\n",
       "       1.72291761e-01, 1.46708901e-01, 1.38315853e-01, 1.23951437e-01,\n",
       "       1.18328254e-01, 1.15058532e-01, 9.83775123e-02, 8.71085743e-02,\n",
       "       8.42342771e-02, 7.64351739e-02, 7.07738205e-02, 7.00335466e-02,\n",
       "       6.82889938e-02, 6.62407234e-02, 6.41969562e-02, 6.24355238e-02,\n",
       "       5.91408054e-02, 5.52803772e-02, 5.43838694e-02, 5.37965891e-02,\n",
       "       5.04117108e-02, 5.00227741e-02, 4.86469700e-02, 4.79116048e-02,\n",
       "       4.61654967e-02, 4.43277783e-02, 4.08400917e-02, 4.03226410e-02,\n",
       "       3.99334443e-02, 3.85030678e-02, 3.71698577e-02, 3.64088803e-02,\n",
       "       3.54486878e-02, 3.49438262e-02, 3.45516242e-02, 3.37533198e-02,\n",
       "       3.27075708e-02, 3.24687323e-02, 3.19217774e-02, 3.13363889e-02,\n",
       "       2.91717382e-02, 2.87299050e-02, 2.77315585e-02, 2.64089414e-02,\n",
       "       2.59949487e-02, 2.48744207e-02, 2.40378569e-02, 2.33265277e-02,\n",
       "       2.29183495e-02, 2.26363776e-02, 2.19062679e-02, 2.14819311e-02,\n",
       "       2.07062304e-02, 2.05528466e-02, 1.97274913e-02, 1.77481974e-02,\n",
       "       1.73578826e-02, 1.73126162e-02, 1.60602132e-02, 1.58636828e-02,\n",
       "       1.50596755e-02, 1.36903167e-02, 1.14118719e-02, 1.05862657e-02,\n",
       "       1.00384132e-02, 9.85755922e-03, 9.36423281e-03, 9.29113226e-03,\n",
       "       8.87409872e-03, 8.62219200e-03, 8.18473350e-03, 7.65440269e-03,\n",
       "       7.15628816e-03, 6.14996589e-03, 6.06445714e-03, 5.48639145e-03,\n",
       "       4.90792979e-03, 4.58470792e-03, 4.43704936e-03, 4.20634913e-03,\n",
       "       3.29384147e-03, 3.10033525e-03, 1.29787851e-13, 1.29787851e-13,\n",
       "       1.29787851e-13, 1.29787851e-13, 1.29787851e-13, 1.29787851e-13,\n",
       "       1.29787851e-13, 1.29787851e-13, 1.29787851e-13, 1.29787851e-13,\n",
       "       6.43385240e-14, 1.60244671e-14])"
      ]
     },
     "execution_count": 115,
     "metadata": {},
     "output_type": "execute_result"
    }
   ],
   "source": [
    "S"
   ]
  },
  {
   "cell_type": "code",
   "execution_count": 35,
   "metadata": {},
   "outputs": [],
   "source": [
    "Z_1 = projectData(X, U, 3)"
   ]
  },
  {
   "cell_type": "code",
   "execution_count": 36,
   "metadata": {},
   "outputs": [
    {
     "data": {
      "image/png": "[encoded data removed]",
      "text/plain": [
       "<Figure size 2160x864 with 1 Axes>"
      ]
     },
     "metadata": {
      "needs_background": "light"
     },
     "output_type": "display_data"
    }
   ],
   "source": [
    "import matplotlib.pyplot as plt\n",
    "\n",
    "fig = plt.figure(figsize=(30, 12))\n",
    "ax = fig.add_subplot(projection='3d')\n",
    "for i in range(len(y)):\n",
    "    ax.scatter( Z_1[np.where(np.argmax(y, axis = 1) == i), 0],\n",
    "               Z_1[np.where(np.argmax(y, axis = 1) == i),1],\n",
    "               Z_1[np.where(np.argmax(y, axis = 1) == i),2])"
   ]
  },
  {
   "cell_type": "code",
   "execution_count": 37,
   "metadata": {},
   "outputs": [
    {
     "name": "stderr",
     "output_type": "stream",
     "text": [
      "/Users/anhoang/Desktop/devzone/Disease-prediction/utils.py:88: RuntimeWarning: overflow encountered in exp\n",
      "  return 1.0 / (1.0 + np.exp(-z))\n",
      "<ipython-input-5-478bf6890dec>:2: RuntimeWarning: overflow encountered in exp\n",
      "  return 1.0 / (1.0 + np.exp(-z))\n",
      "<ipython-input-16-5b8138aca21a>:57: RuntimeWarning: divide by zero encountered in log\n",
      "  J = J + (-y[i].dot(np.log(h_X[i].T)) - (1 - y[i]).dot(np.log(1- h_X[i].T)))\n",
      "<ipython-input-16-5b8138aca21a>:57: RuntimeWarning: divide by zero encountered in log\n",
      "  J = J + (-y[i].dot(np.log(h_X[i].T)) - (1 - y[i]).dot(np.log(1- h_X[i].T)))\n",
      "/Users/anhoang/Desktop/devzone/Disease-prediction/utils.py:88: RuntimeWarning: overflow encountered in exp\n",
      "  return 1.0 / (1.0 + np.exp(-z))\n",
      "<ipython-input-5-478bf6890dec>:2: RuntimeWarning: overflow encountered in exp\n",
      "  return 1.0 / (1.0 + np.exp(-z))\n",
      "<ipython-input-16-5b8138aca21a>:57: RuntimeWarning: divide by zero encountered in log\n",
      "  J = J + (-y[i].dot(np.log(h_X[i].T)) - (1 - y[i]).dot(np.log(1- h_X[i].T)))\n",
      "/Users/anhoang/Desktop/devzone/Disease-prediction/utils.py:88: RuntimeWarning: overflow encountered in exp\n",
      "  return 1.0 / (1.0 + np.exp(-z))\n",
      "<ipython-input-5-478bf6890dec>:2: RuntimeWarning: overflow encountered in exp\n",
      "  return 1.0 / (1.0 + np.exp(-z))\n",
      "/Users/anhoang/Desktop/devzone/Disease-prediction/utils.py:88: RuntimeWarning: overflow encountered in exp\n",
      "  return 1.0 / (1.0 + np.exp(-z))\n",
      "<ipython-input-5-478bf6890dec>:2: RuntimeWarning: overflow encountered in exp\n",
      "  return 1.0 / (1.0 + np.exp(-z))\n",
      "/Users/anhoang/Desktop/devzone/Disease-prediction/utils.py:88: RuntimeWarning: overflow encountered in exp\n",
      "  return 1.0 / (1.0 + np.exp(-z))\n",
      "<ipython-input-5-478bf6890dec>:2: RuntimeWarning: overflow encountered in exp\n",
      "  return 1.0 / (1.0 + np.exp(-z))\n",
      "<ipython-input-16-5b8138aca21a>:57: RuntimeWarning: divide by zero encountered in log\n",
      "  J = J + (-y[i].dot(np.log(h_X[i].T)) - (1 - y[i]).dot(np.log(1- h_X[i].T)))\n",
      "/Users/anhoang/Desktop/devzone/Disease-prediction/utils.py:88: RuntimeWarning: overflow encountered in exp\n",
      "  return 1.0 / (1.0 + np.exp(-z))\n",
      "<ipython-input-5-478bf6890dec>:2: RuntimeWarning: overflow encountered in exp\n",
      "  return 1.0 / (1.0 + np.exp(-z))\n",
      "/Users/anhoang/Desktop/devzone/Disease-prediction/utils.py:88: RuntimeWarning: overflow encountered in exp\n",
      "  return 1.0 / (1.0 + np.exp(-z))\n",
      "<ipython-input-5-478bf6890dec>:2: RuntimeWarning: overflow encountered in exp\n",
      "  return 1.0 / (1.0 + np.exp(-z))\n",
      "/Users/anhoang/Desktop/devzone/Disease-prediction/utils.py:88: RuntimeWarning: overflow encountered in exp\n",
      "  return 1.0 / (1.0 + np.exp(-z))\n",
      "<ipython-input-5-478bf6890dec>:2: RuntimeWarning: overflow encountered in exp\n",
      "  return 1.0 / (1.0 + np.exp(-z))\n",
      "<ipython-input-16-5b8138aca21a>:57: RuntimeWarning: divide by zero encountered in log\n",
      "  J = J + (-y[i].dot(np.log(h_X[i].T)) - (1 - y[i]).dot(np.log(1- h_X[i].T)))\n",
      "/Users/anhoang/Desktop/devzone/Disease-prediction/utils.py:88: RuntimeWarning: overflow encountered in exp\n",
      "  return 1.0 / (1.0 + np.exp(-z))\n",
      "<ipython-input-5-478bf6890dec>:2: RuntimeWarning: overflow encountered in exp\n",
      "  return 1.0 / (1.0 + np.exp(-z))\n",
      "/Users/anhoang/Desktop/devzone/Disease-prediction/utils.py:88: RuntimeWarning: overflow encountered in exp\n",
      "  return 1.0 / (1.0 + np.exp(-z))\n",
      "<ipython-input-5-478bf6890dec>:2: RuntimeWarning: overflow encountered in exp\n",
      "  return 1.0 / (1.0 + np.exp(-z))\n",
      "<ipython-input-16-5b8138aca21a>:57: RuntimeWarning: divide by zero encountered in log\n",
      "  J = J + (-y[i].dot(np.log(h_X[i].T)) - (1 - y[i]).dot(np.log(1- h_X[i].T)))\n",
      "/Users/anhoang/Desktop/devzone/Disease-prediction/utils.py:88: RuntimeWarning: overflow encountered in exp\n",
      "  return 1.0 / (1.0 + np.exp(-z))\n",
      "<ipython-input-5-478bf6890dec>:2: RuntimeWarning: overflow encountered in exp\n",
      "  return 1.0 / (1.0 + np.exp(-z))\n",
      "/Users/anhoang/Desktop/devzone/Disease-prediction/utils.py:88: RuntimeWarning: overflow encountered in exp\n",
      "  return 1.0 / (1.0 + np.exp(-z))\n",
      "<ipython-input-5-478bf6890dec>:2: RuntimeWarning: overflow encountered in exp\n",
      "  return 1.0 / (1.0 + np.exp(-z))\n",
      "/Users/anhoang/Desktop/devzone/Disease-prediction/utils.py:88: RuntimeWarning: overflow encountered in exp\n",
      "  return 1.0 / (1.0 + np.exp(-z))\n",
      "<ipython-input-5-478bf6890dec>:2: RuntimeWarning: overflow encountered in exp\n",
      "  return 1.0 / (1.0 + np.exp(-z))\n",
      "/Users/anhoang/Desktop/devzone/Disease-prediction/utils.py:88: RuntimeWarning: overflow encountered in exp\n",
      "  return 1.0 / (1.0 + np.exp(-z))\n",
      "<ipython-input-5-478bf6890dec>:2: RuntimeWarning: overflow encountered in exp\n",
      "  return 1.0 / (1.0 + np.exp(-z))\n",
      "/Users/anhoang/Desktop/devzone/Disease-prediction/utils.py:88: RuntimeWarning: overflow encountered in exp\n",
      "  return 1.0 / (1.0 + np.exp(-z))\n",
      "<ipython-input-5-478bf6890dec>:2: RuntimeWarning: overflow encountered in exp\n",
      "  return 1.0 / (1.0 + np.exp(-z))\n",
      "/Users/anhoang/Desktop/devzone/Disease-prediction/utils.py:88: RuntimeWarning: overflow encountered in exp\n",
      "  return 1.0 / (1.0 + np.exp(-z))\n",
      "<ipython-input-5-478bf6890dec>:2: RuntimeWarning: overflow encountered in exp\n",
      "  return 1.0 / (1.0 + np.exp(-z))\n",
      "/Users/anhoang/Desktop/devzone/Disease-prediction/utils.py:88: RuntimeWarning: overflow encountered in exp\n",
      "  return 1.0 / (1.0 + np.exp(-z))\n",
      "<ipython-input-5-478bf6890dec>:2: RuntimeWarning: overflow encountered in exp\n",
      "  return 1.0 / (1.0 + np.exp(-z))\n",
      "/Users/anhoang/Desktop/devzone/Disease-prediction/utils.py:88: RuntimeWarning: overflow encountered in exp\n",
      "  return 1.0 / (1.0 + np.exp(-z))\n",
      "<ipython-input-5-478bf6890dec>:2: RuntimeWarning: overflow encountered in exp\n",
      "  return 1.0 / (1.0 + np.exp(-z))\n",
      "/Users/anhoang/Desktop/devzone/Disease-prediction/utils.py:88: RuntimeWarning: overflow encountered in exp\n",
      "  return 1.0 / (1.0 + np.exp(-z))\n",
      "<ipython-input-5-478bf6890dec>:2: RuntimeWarning: overflow encountered in exp\n",
      "  return 1.0 / (1.0 + np.exp(-z))\n",
      "<ipython-input-16-5b8138aca21a>:57: RuntimeWarning: divide by zero encountered in log\n",
      "  J = J + (-y[i].dot(np.log(h_X[i].T)) - (1 - y[i]).dot(np.log(1- h_X[i].T)))\n",
      "/Users/anhoang/Desktop/devzone/Disease-prediction/utils.py:88: RuntimeWarning: overflow encountered in exp\n",
      "  return 1.0 / (1.0 + np.exp(-z))\n",
      "<ipython-input-5-478bf6890dec>:2: RuntimeWarning: overflow encountered in exp\n",
      "  return 1.0 / (1.0 + np.exp(-z))\n",
      "/Users/anhoang/Desktop/devzone/Disease-prediction/utils.py:88: RuntimeWarning: overflow encountered in exp\n",
      "  return 1.0 / (1.0 + np.exp(-z))\n",
      "<ipython-input-5-478bf6890dec>:2: RuntimeWarning: overflow encountered in exp\n",
      "  return 1.0 / (1.0 + np.exp(-z))\n",
      "/Users/anhoang/Desktop/devzone/Disease-prediction/utils.py:88: RuntimeWarning: overflow encountered in exp\n",
      "  return 1.0 / (1.0 + np.exp(-z))\n",
      "<ipython-input-5-478bf6890dec>:2: RuntimeWarning: overflow encountered in exp\n",
      "  return 1.0 / (1.0 + np.exp(-z))\n",
      "/Users/anhoang/Desktop/devzone/Disease-prediction/utils.py:88: RuntimeWarning: overflow encountered in exp\n",
      "  return 1.0 / (1.0 + np.exp(-z))\n",
      "<ipython-input-5-478bf6890dec>:2: RuntimeWarning: overflow encountered in exp\n",
      "  return 1.0 / (1.0 + np.exp(-z))\n",
      "/Users/anhoang/Desktop/devzone/Disease-prediction/utils.py:88: RuntimeWarning: overflow encountered in exp\n",
      "  return 1.0 / (1.0 + np.exp(-z))\n",
      "<ipython-input-5-478bf6890dec>:2: RuntimeWarning: overflow encountered in exp\n",
      "  return 1.0 / (1.0 + np.exp(-z))\n",
      "/Users/anhoang/Desktop/devzone/Disease-prediction/utils.py:88: RuntimeWarning: overflow encountered in exp\n",
      "  return 1.0 / (1.0 + np.exp(-z))\n",
      "<ipython-input-5-478bf6890dec>:2: RuntimeWarning: overflow encountered in exp\n",
      "  return 1.0 / (1.0 + np.exp(-z))\n",
      "/Users/anhoang/Desktop/devzone/Disease-prediction/utils.py:88: RuntimeWarning: overflow encountered in exp\n",
      "  return 1.0 / (1.0 + np.exp(-z))\n",
      "<ipython-input-5-478bf6890dec>:2: RuntimeWarning: overflow encountered in exp\n",
      "  return 1.0 / (1.0 + np.exp(-z))\n"
     ]
    }
   ],
   "source": [
    "prefferedDim = np.linspace(3,60,58, dtype = int)\n",
    "options= {'maxiter': 150}\n",
    "lambda_ = 1\n",
    "f1_score_list = []\n",
    "for i in prefferedDim:\n",
    "    X_train_cv, X_test, y_train_cv, y_test = train_test_split(projectData(X, pca(X)[0], i), y, test_size=0.2)\n",
    "    X_train, X_cross_val, y_train, y_cross_val = train_test_split(X_train_cv, y_train_cv, test_size=0.25)\n",
    "    input_layer_size = i\n",
    "    Theta1 = randInitializeWeights(input_layer_size, hidden_layer_size)\n",
    "    Theta2 = randInitializeWeights(hidden_layer_size, num_labels)\n",
    "\n",
    "    initial_nn_params = np.concatenate([Theta1.ravel(), Theta2.ravel()], axis=0)\n",
    "\n",
    "    costFunction = lambda p: nnCostFunction(p, input_layer_size,\n",
    "                                            hidden_layer_size,\n",
    "                                            num_labels, X_train, y_train, lambda_)\n",
    "\n",
    "    res = optimize.minimize(costFunction,\n",
    "                            initial_nn_params,\n",
    "                            jac=True,\n",
    "                            method='TNC',\n",
    "                            options=options)\n",
    "\n",
    "    nn_params = res.x\n",
    "\n",
    "    Theta1 = np.reshape(nn_params[:hidden_layer_size * (input_layer_size + 1)],\n",
    "                        (hidden_layer_size, (input_layer_size + 1)))\n",
    "\n",
    "    Theta2 = np.reshape(nn_params[(hidden_layer_size * (input_layer_size + 1)):],\n",
    "                        (num_labels, (hidden_layer_size + 1)))\n",
    "    pred = utils.predict(Theta1, Theta2, X_cross_val)\n",
    "    f1_score_list.append(f1_score(y_cross_val, pred,  average='micro'))"
   ]
  },
  {
   "cell_type": "code",
   "execution_count": 38,
   "metadata": {},
   "outputs": [
    {
     "data": {
      "image/png": "[encoded data removed]",
      "text/plain": [
       "<Figure size 432x288 with 1 Axes>"
      ]
     },
     "metadata": {
      "needs_background": "light"
     },
     "output_type": "display_data"
    }
   ],
   "source": [
    "import matplotlib.pyplot as plt\n",
    "plt.plot(prefferedDim, f1_score_list)\n",
    "plt.xlabel(\"Number of considered features\")\n",
    "plt.ylabel(\"F1_score\")\n",
    "plt.title(\"Testing the number of features\")\n",
    "plt.grid()\n",
    "plt.show()"
   ]
  },
  {
   "cell_type": "code",
   "execution_count": 113,
   "metadata": {},
   "outputs": [
    {
     "name": "stdout",
     "output_type": "stream",
     "text": [
      "99.6171111697914\n"
     ]
    }
   ],
   "source": [
    "input_layer_size = 12\n",
    "\n",
    "X_train_cv, X_test, y_train_cv, y_test = train_test_split(projectData(X, pca(X)[0], input_layer_size), y, test_size=0.2)\n",
    "X_train, X_cross_val, y_train, y_cross_val = train_test_split(X_train_cv, y_train_cv, test_size=0.25)\n",
    "\n",
    "Theta1 = randInitializeWeights(input_layer_size, hidden_layer_size)\n",
    "Theta2 = randInitializeWeights(hidden_layer_size, num_labels)\n",
    "\n",
    "initial_nn_params = np.concatenate([Theta1.ravel(), Theta2.ravel()], axis=0)\n",
    "\n",
    "costFunction = lambda p: nnCostFunction(p, input_layer_size,\n",
    "                                        hidden_layer_size,\n",
    "                                        num_labels, X_train_cv, y_train_cv, lambda_)\n",
    "\n",
    "res = optimize.minimize(costFunction,\n",
    "                        initial_nn_params,\n",
    "                        jac=True,\n",
    "                        method='TNC',\n",
    "                        options=options)\n",
    "\n",
    "nn_params = res.x\n",
    "\n",
    "Theta1 = np.reshape(nn_params[:hidden_layer_size * (input_layer_size + 1)],\n",
    "                    (hidden_layer_size, (input_layer_size + 1)))\n",
    "\n",
    "Theta2 = np.reshape(nn_params[(hidden_layer_size * (input_layer_size + 1)):],\n",
    "                    (num_labels, (hidden_layer_size + 1)))\n",
    "pred = utils.predict(Theta1, Theta2, X_test)\n",
    "accuracy = np.mean(pred == y_test) * 100\n",
    "print(accuracy)"
   ]
  },
  {
   "cell_type": "code",
   "execution_count": 114,
   "metadata": {},
   "outputs": [
    {
     "name": "stdout",
     "output_type": "stream",
     "text": [
      "              precision    recall  f1-score   support\n",
      "\n",
      "           0       1.00      0.90      0.95        21\n",
      "           1       0.95      0.95      0.95        22\n",
      "           2       0.74      1.00      0.85        29\n",
      "           3       0.91      0.95      0.93        21\n",
      "           4       0.82      0.88      0.85        32\n",
      "           5       0.77      0.96      0.86        28\n",
      "           6       1.00      0.94      0.97        18\n",
      "           7       0.86      1.00      0.92        18\n",
      "           8       0.89      0.93      0.91        27\n",
      "           9       0.65      0.95      0.77        21\n",
      "          10       0.97      1.00      0.98        28\n",
      "          11       0.95      0.93      0.94        44\n",
      "          12       1.00      1.00      1.00        21\n",
      "          13       1.00      0.88      0.94        34\n",
      "          14       0.96      1.00      0.98        27\n",
      "          15       0.96      0.93      0.94        27\n",
      "          16       0.82      0.74      0.78        19\n",
      "          17       0.97      0.97      0.97        32\n",
      "          18       0.91      0.94      0.92        32\n",
      "          19       0.97      0.97      0.97        32\n",
      "          20       1.00      1.00      1.00        30\n",
      "          21       0.92      0.92      0.92        25\n",
      "          22       0.79      0.65      0.71        23\n",
      "          23       0.95      0.91      0.93        22\n",
      "          24       0.89      0.84      0.86        19\n",
      "          25       1.00      0.95      0.97        20\n",
      "          26       0.82      0.93      0.87        15\n",
      "          27       0.93      0.93      0.93        27\n",
      "          28       1.00      0.81      0.90        37\n",
      "          29       1.00      0.86      0.93        29\n",
      "          30       0.95      0.86      0.90        22\n",
      "          31       1.00      0.87      0.93        23\n",
      "          32       1.00      0.92      0.96        24\n",
      "          33       0.92      0.82      0.87        28\n",
      "          34       0.96      0.93      0.95        29\n",
      "          35       0.87      0.90      0.88        29\n",
      "          36       0.96      0.81      0.88        27\n",
      "          37       0.96      0.96      0.96        27\n",
      "          38       1.00      1.00      1.00        25\n",
      "          39       0.87      0.95      0.91        21\n",
      "          40       1.00      1.00      1.00        28\n",
      "          41       0.86      0.95      0.90        19\n",
      "\n",
      "   micro avg       0.92      0.92      0.92      1082\n",
      "   macro avg       0.92      0.92      0.92      1082\n",
      "weighted avg       0.93      0.92      0.92      1082\n",
      " samples avg       0.92      0.92      0.92      1082\n",
      "\n"
     ]
    }
   ],
   "source": [
    "print(classification_report(y_test, pred))"
   ]
  },
  {
   "cell_type": "code",
   "execution_count": null,
   "metadata": {},
   "outputs": [],
   "source": []
  }
 ],
 "metadata": {
  "kernelspec": {
   "display_name": "Python 3",
   "language": "python",
   "name": "python3"
  },
  "language_info": {
   "codemirror_mode": {
    "name": "ipython",
    "version": 3
   },
   "file_extension": ".py",
   "mimetype": "text/x-python",
   "name": "python",
   "nbconvert_exporter": "python",
   "pygments_lexer": "ipython3",
   "version": "3.9.0"
  },
  "vscode": {
   "interpreter": {
    "hash": "aee8b7b246df8f9039afb4144a1f6fd8d2ca17a180786b69acc140d282b71a49"
   }
  }
 },
 "nbformat": 4,
 "nbformat_minor": 4
}
