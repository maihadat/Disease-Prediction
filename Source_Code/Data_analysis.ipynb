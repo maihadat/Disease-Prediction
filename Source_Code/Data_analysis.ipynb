{
 "cells": [
  {
   "cell_type": "markdown",
   "metadata": {
    "id": "lvdEch720ksW"
   },
   "source": [
    "# Importing and analyzing data "
   ]
  },
  {
   "cell_type": "markdown",
   "metadata": {
    "id": "rWXZnAwnCsl4"
   },
   "source": [
    "Import important libraries."
   ]
  },
  {
   "cell_type": "code",
   "execution_count": null,
   "metadata": {
    "id": "6-3QLZLrscEZ"
   },
   "outputs": [],
   "source": [
    "import numpy as np\n",
    "import pandas as pd\n",
    "import time\n",
    "import matplotlib.pyplot as plt\n",
    "import seaborn as sns\n",
    "from sklearn.preprocessing import LabelEncoder"
   ]
  },
  {
   "cell_type": "markdown",
   "metadata": {
    "id": "Na3DeccSscpJ"
   },
   "source": [
    "We will take data from our github repositories, which were downloaded from kaggle."
   ]
  },
  {
   "cell_type": "code",
   "execution_count": null,
   "metadata": {
    "colab": {
     "base_uri": "https://localhost:8080/",
     "height": 540
    },
    "id": "vgNbb2WYscEc",
    "outputId": "6b9571f5-c662-4fbb-bee1-209069a3b319",
    "scrolled": true
   },
   "outputs": [
    {
     "data": {
      "text/html": [
       "\n",
       "  <div id=\"df-fb4b0067-8127-4bd3-923a-3a8db9cf0b88\">\n",
       "    <div class=\"colab-df-container\">\n",
       "      <div>\n",
       "<style scoped>\n",
       "    .dataframe tbody tr th:only-of-type {\n",
       "        vertical-align: middle;\n",
       "    }\n",
       "\n",
       "    .dataframe tbody tr th {\n",
       "        vertical-align: top;\n",
       "    }\n",
       "\n",
       "    .dataframe thead th {\n",
       "        text-align: right;\n",
       "    }\n",
       "</style>\n",
       "<table border=\"1\" class=\"dataframe\">\n",
       "  <thead>\n",
       "    <tr style=\"text-align: right;\">\n",
       "      <th></th>\n",
       "      <th>Unnamed: 0</th>\n",
       "      <th>Severity</th>\n",
       "      <th>itching</th>\n",
       "      <th>skin_rash</th>\n",
       "      <th>continuous_sneezing</th>\n",
       "      <th>shivering</th>\n",
       "      <th>stomach_pain</th>\n",
       "      <th>acidity</th>\n",
       "      <th>vomiting</th>\n",
       "      <th>indigestion</th>\n",
       "      <th>...</th>\n",
       "      <th>receiving_unsterile_injections</th>\n",
       "      <th>coma</th>\n",
       "      <th>sinus_pressure</th>\n",
       "      <th>palpitations</th>\n",
       "      <th>stomach_bleeding</th>\n",
       "      <th>runny_nose</th>\n",
       "      <th>congestion</th>\n",
       "      <th>blood_in_sputum</th>\n",
       "      <th>loss_of_smell</th>\n",
       "      <th>Disease</th>\n",
       "    </tr>\n",
       "  </thead>\n",
       "  <tbody>\n",
       "    <tr>\n",
       "      <th>0</th>\n",
       "      <td>0</td>\n",
       "      <td>13</td>\n",
       "      <td>0</td>\n",
       "      <td>3</td>\n",
       "      <td>0</td>\n",
       "      <td>0</td>\n",
       "      <td>0</td>\n",
       "      <td>0</td>\n",
       "      <td>0</td>\n",
       "      <td>0</td>\n",
       "      <td>...</td>\n",
       "      <td>0</td>\n",
       "      <td>0</td>\n",
       "      <td>0</td>\n",
       "      <td>0</td>\n",
       "      <td>0</td>\n",
       "      <td>0</td>\n",
       "      <td>0</td>\n",
       "      <td>0</td>\n",
       "      <td>0</td>\n",
       "      <td>Fungal infection</td>\n",
       "    </tr>\n",
       "    <tr>\n",
       "      <th>1</th>\n",
       "      <td>1</td>\n",
       "      <td>11</td>\n",
       "      <td>1</td>\n",
       "      <td>0</td>\n",
       "      <td>0</td>\n",
       "      <td>0</td>\n",
       "      <td>0</td>\n",
       "      <td>0</td>\n",
       "      <td>0</td>\n",
       "      <td>0</td>\n",
       "      <td>...</td>\n",
       "      <td>0</td>\n",
       "      <td>0</td>\n",
       "      <td>0</td>\n",
       "      <td>0</td>\n",
       "      <td>0</td>\n",
       "      <td>0</td>\n",
       "      <td>0</td>\n",
       "      <td>0</td>\n",
       "      <td>0</td>\n",
       "      <td>Fungal infection</td>\n",
       "    </tr>\n",
       "    <tr>\n",
       "      <th>2</th>\n",
       "      <td>2</td>\n",
       "      <td>10</td>\n",
       "      <td>1</td>\n",
       "      <td>3</td>\n",
       "      <td>0</td>\n",
       "      <td>0</td>\n",
       "      <td>0</td>\n",
       "      <td>0</td>\n",
       "      <td>0</td>\n",
       "      <td>0</td>\n",
       "      <td>...</td>\n",
       "      <td>0</td>\n",
       "      <td>0</td>\n",
       "      <td>0</td>\n",
       "      <td>0</td>\n",
       "      <td>0</td>\n",
       "      <td>0</td>\n",
       "      <td>0</td>\n",
       "      <td>0</td>\n",
       "      <td>0</td>\n",
       "      <td>Fungal infection</td>\n",
       "    </tr>\n",
       "    <tr>\n",
       "      <th>3</th>\n",
       "      <td>3</td>\n",
       "      <td>8</td>\n",
       "      <td>1</td>\n",
       "      <td>3</td>\n",
       "      <td>0</td>\n",
       "      <td>0</td>\n",
       "      <td>0</td>\n",
       "      <td>0</td>\n",
       "      <td>0</td>\n",
       "      <td>0</td>\n",
       "      <td>...</td>\n",
       "      <td>0</td>\n",
       "      <td>0</td>\n",
       "      <td>0</td>\n",
       "      <td>0</td>\n",
       "      <td>0</td>\n",
       "      <td>0</td>\n",
       "      <td>0</td>\n",
       "      <td>0</td>\n",
       "      <td>0</td>\n",
       "      <td>Fungal infection</td>\n",
       "    </tr>\n",
       "    <tr>\n",
       "      <th>4</th>\n",
       "      <td>4</td>\n",
       "      <td>13</td>\n",
       "      <td>0</td>\n",
       "      <td>3</td>\n",
       "      <td>0</td>\n",
       "      <td>0</td>\n",
       "      <td>0</td>\n",
       "      <td>0</td>\n",
       "      <td>0</td>\n",
       "      <td>0</td>\n",
       "      <td>...</td>\n",
       "      <td>0</td>\n",
       "      <td>0</td>\n",
       "      <td>0</td>\n",
       "      <td>0</td>\n",
       "      <td>0</td>\n",
       "      <td>0</td>\n",
       "      <td>0</td>\n",
       "      <td>0</td>\n",
       "      <td>0</td>\n",
       "      <td>Fungal infection</td>\n",
       "    </tr>\n",
       "    <tr>\n",
       "      <th>...</th>\n",
       "      <td>...</td>\n",
       "      <td>...</td>\n",
       "      <td>...</td>\n",
       "      <td>...</td>\n",
       "      <td>...</td>\n",
       "      <td>...</td>\n",
       "      <td>...</td>\n",
       "      <td>...</td>\n",
       "      <td>...</td>\n",
       "      <td>...</td>\n",
       "      <td>...</td>\n",
       "      <td>...</td>\n",
       "      <td>...</td>\n",
       "      <td>...</td>\n",
       "      <td>...</td>\n",
       "      <td>...</td>\n",
       "      <td>...</td>\n",
       "      <td>...</td>\n",
       "      <td>...</td>\n",
       "      <td>...</td>\n",
       "      <td>...</td>\n",
       "    </tr>\n",
       "    <tr>\n",
       "      <th>5404</th>\n",
       "      <td>5404</td>\n",
       "      <td>29</td>\n",
       "      <td>0</td>\n",
       "      <td>0</td>\n",
       "      <td>0</td>\n",
       "      <td>0</td>\n",
       "      <td>0</td>\n",
       "      <td>0</td>\n",
       "      <td>0</td>\n",
       "      <td>5</td>\n",
       "      <td>...</td>\n",
       "      <td>0</td>\n",
       "      <td>0</td>\n",
       "      <td>0</td>\n",
       "      <td>0</td>\n",
       "      <td>0</td>\n",
       "      <td>0</td>\n",
       "      <td>0</td>\n",
       "      <td>0</td>\n",
       "      <td>0</td>\n",
       "      <td>Dimorphic hemmorhoids(piles)</td>\n",
       "    </tr>\n",
       "    <tr>\n",
       "      <th>5405</th>\n",
       "      <td>5405</td>\n",
       "      <td>31</td>\n",
       "      <td>0</td>\n",
       "      <td>0</td>\n",
       "      <td>0</td>\n",
       "      <td>0</td>\n",
       "      <td>0</td>\n",
       "      <td>0</td>\n",
       "      <td>5</td>\n",
       "      <td>0</td>\n",
       "      <td>...</td>\n",
       "      <td>0</td>\n",
       "      <td>0</td>\n",
       "      <td>0</td>\n",
       "      <td>0</td>\n",
       "      <td>0</td>\n",
       "      <td>0</td>\n",
       "      <td>0</td>\n",
       "      <td>0</td>\n",
       "      <td>0</td>\n",
       "      <td>Cervical spondylosis</td>\n",
       "    </tr>\n",
       "    <tr>\n",
       "      <th>5406</th>\n",
       "      <td>5406</td>\n",
       "      <td>43</td>\n",
       "      <td>1</td>\n",
       "      <td>0</td>\n",
       "      <td>0</td>\n",
       "      <td>0</td>\n",
       "      <td>0</td>\n",
       "      <td>0</td>\n",
       "      <td>0</td>\n",
       "      <td>0</td>\n",
       "      <td>...</td>\n",
       "      <td>2</td>\n",
       "      <td>0</td>\n",
       "      <td>0</td>\n",
       "      <td>0</td>\n",
       "      <td>0</td>\n",
       "      <td>0</td>\n",
       "      <td>0</td>\n",
       "      <td>0</td>\n",
       "      <td>0</td>\n",
       "      <td>AIDS</td>\n",
       "    </tr>\n",
       "    <tr>\n",
       "      <th>5407</th>\n",
       "      <td>5407</td>\n",
       "      <td>16</td>\n",
       "      <td>0</td>\n",
       "      <td>3</td>\n",
       "      <td>0</td>\n",
       "      <td>0</td>\n",
       "      <td>0</td>\n",
       "      <td>0</td>\n",
       "      <td>0</td>\n",
       "      <td>0</td>\n",
       "      <td>...</td>\n",
       "      <td>0</td>\n",
       "      <td>0</td>\n",
       "      <td>0</td>\n",
       "      <td>0</td>\n",
       "      <td>0</td>\n",
       "      <td>0</td>\n",
       "      <td>0</td>\n",
       "      <td>0</td>\n",
       "      <td>0</td>\n",
       "      <td>Chicken pox</td>\n",
       "    </tr>\n",
       "    <tr>\n",
       "      <th>5408</th>\n",
       "      <td>5408</td>\n",
       "      <td>16</td>\n",
       "      <td>0</td>\n",
       "      <td>0</td>\n",
       "      <td>0</td>\n",
       "      <td>0</td>\n",
       "      <td>0</td>\n",
       "      <td>0</td>\n",
       "      <td>0</td>\n",
       "      <td>0</td>\n",
       "      <td>...</td>\n",
       "      <td>0</td>\n",
       "      <td>0</td>\n",
       "      <td>0</td>\n",
       "      <td>0</td>\n",
       "      <td>0</td>\n",
       "      <td>0</td>\n",
       "      <td>0</td>\n",
       "      <td>0</td>\n",
       "      <td>0</td>\n",
       "      <td>Pneumonia</td>\n",
       "    </tr>\n",
       "  </tbody>\n",
       "</table>\n",
       "<p>5409 rows × 144 columns</p>\n",
       "</div>\n",
       "      <button class=\"colab-df-convert\" onclick=\"convertToInteractive('df-fb4b0067-8127-4bd3-923a-3a8db9cf0b88')\"\n",
       "              title=\"Convert this dataframe to an interactive table.\"\n",
       "              style=\"display:none;\">\n",
       "        \n",
       "  <svg xmlns=\"http://www.w3.org/2000/svg\" height=\"24px\"viewBox=\"0 0 24 24\"\n",
       "       width=\"24px\">\n",
       "    <path d=\"M0 0h24v24H0V0z\" fill=\"none\"/>\n",
       "    <path d=\"M18.56 5.44l.94 2.06.94-2.06 2.06-.94-2.06-.94-.94-2.06-.94 2.06-2.06.94zm-11 1L8.5 8.5l.94-2.06 2.06-.94-2.06-.94L8.5 2.5l-.94 2.06-2.06.94zm10 10l.94 2.06.94-2.06 2.06-.94-2.06-.94-.94-2.06-.94 2.06-2.06.94z\"/><path d=\"M17.41 7.96l-1.37-1.37c-.4-.4-.92-.59-1.43-.59-.52 0-1.04.2-1.43.59L10.3 9.45l-7.72 7.72c-.78.78-.78 2.05 0 2.83L4 21.41c.39.39.9.59 1.41.59.51 0 1.02-.2 1.41-.59l7.78-7.78 2.81-2.81c.8-.78.8-2.07 0-2.86zM5.41 20L4 18.59l7.72-7.72 1.47 1.35L5.41 20z\"/>\n",
       "  </svg>\n",
       "      </button>\n",
       "      \n",
       "  <style>\n",
       "    .colab-df-container {\n",
       "      display:flex;\n",
       "      flex-wrap:wrap;\n",
       "      gap: 12px;\n",
       "    }\n",
       "\n",
       "    .colab-df-convert {\n",
       "      background-color: #E8F0FE;\n",
       "      border: none;\n",
       "      border-radius: 50%;\n",
       "      cursor: pointer;\n",
       "      display: none;\n",
       "      fill: #1967D2;\n",
       "      height: 32px;\n",
       "      padding: 0 0 0 0;\n",
       "      width: 32px;\n",
       "    }\n",
       "\n",
       "    .colab-df-convert:hover {\n",
       "      background-color: #E2EBFA;\n",
       "      box-shadow: 0px 1px 2px rgba(60, 64, 67, 0.3), 0px 1px 3px 1px rgba(60, 64, 67, 0.15);\n",
       "      fill: #174EA6;\n",
       "    }\n",
       "\n",
       "    [theme=dark] .colab-df-convert {\n",
       "      background-color: #3B4455;\n",
       "      fill: #D2E3FC;\n",
       "    }\n",
       "\n",
       "    [theme=dark] .colab-df-convert:hover {\n",
       "      background-color: #434B5C;\n",
       "      box-shadow: 0px 1px 3px 1px rgba(0, 0, 0, 0.15);\n",
       "      filter: drop-shadow(0px 1px 2px rgba(0, 0, 0, 0.3));\n",
       "      fill: #FFFFFF;\n",
       "    }\n",
       "  </style>\n",
       "\n",
       "      <script>\n",
       "        const buttonEl =\n",
       "          document.querySelector('#df-fb4b0067-8127-4bd3-923a-3a8db9cf0b88 button.colab-df-convert');\n",
       "        buttonEl.style.display =\n",
       "          google.colab.kernel.accessAllowed ? 'block' : 'none';\n",
       "\n",
       "        async function convertToInteractive(key) {\n",
       "          const element = document.querySelector('#df-fb4b0067-8127-4bd3-923a-3a8db9cf0b88');\n",
       "          const dataTable =\n",
       "            await google.colab.kernel.invokeFunction('convertToInteractive',\n",
       "                                                     [key], {});\n",
       "          if (!dataTable) return;\n",
       "\n",
       "          const docLinkHtml = 'Like what you see? Visit the ' +\n",
       "            '<a target=\"_blank\" href=https://colab.research.google.com/notebooks/data_table.ipynb>data table notebook</a>'\n",
       "            + ' to learn more about interactive tables.';\n",
       "          element.innerHTML = '';\n",
       "          dataTable['output_type'] = 'display_data';\n",
       "          await google.colab.output.renderOutput(dataTable, element);\n",
       "          const docLink = document.createElement('div');\n",
       "          docLink.innerHTML = docLinkHtml;\n",
       "          element.appendChild(docLink);\n",
       "        }\n",
       "      </script>\n",
       "    </div>\n",
       "  </div>\n",
       "  "
      ],
      "text/plain": [
       "      Unnamed: 0  Severity  itching   skin_rash   continuous_sneezing  \\\n",
       "0              0        13        0           3                     0   \n",
       "1              1        11        1           0                     0   \n",
       "2              2        10        1           3                     0   \n",
       "3              3         8        1           3                     0   \n",
       "4              4        13        0           3                     0   \n",
       "...          ...       ...      ...         ...                   ...   \n",
       "5404        5404        29        0           0                     0   \n",
       "5405        5405        31        0           0                     0   \n",
       "5406        5406        43        1           0                     0   \n",
       "5407        5407        16        0           3                     0   \n",
       "5408        5408        16        0           0                     0   \n",
       "\n",
       "       shivering   stomach_pain   acidity   vomiting   indigestion  ...  \\\n",
       "0              0              0         0          0             0  ...   \n",
       "1              0              0         0          0             0  ...   \n",
       "2              0              0         0          0             0  ...   \n",
       "3              0              0         0          0             0  ...   \n",
       "4              0              0         0          0             0  ...   \n",
       "...          ...            ...       ...        ...           ...  ...   \n",
       "5404           0              0         0          0             5  ...   \n",
       "5405           0              0         0          5             0  ...   \n",
       "5406           0              0         0          0             0  ...   \n",
       "5407           0              0         0          0             0  ...   \n",
       "5408           0              0         0          0             0  ...   \n",
       "\n",
       "       receiving_unsterile_injections   coma   sinus_pressure   palpitations  \\\n",
       "0                                   0      0                0              0   \n",
       "1                                   0      0                0              0   \n",
       "2                                   0      0                0              0   \n",
       "3                                   0      0                0              0   \n",
       "4                                   0      0                0              0   \n",
       "...                               ...    ...              ...            ...   \n",
       "5404                                0      0                0              0   \n",
       "5405                                0      0                0              0   \n",
       "5406                                2      0                0              0   \n",
       "5407                                0      0                0              0   \n",
       "5408                                0      0                0              0   \n",
       "\n",
       "       stomach_bleeding   runny_nose   congestion   blood_in_sputum  \\\n",
       "0                     0            0            0                 0   \n",
       "1                     0            0            0                 0   \n",
       "2                     0            0            0                 0   \n",
       "3                     0            0            0                 0   \n",
       "4                     0            0            0                 0   \n",
       "...                 ...          ...          ...               ...   \n",
       "5404                  0            0            0                 0   \n",
       "5405                  0            0            0                 0   \n",
       "5406                  0            0            0                 0   \n",
       "5407                  0            0            0                 0   \n",
       "5408                  0            0            0                 0   \n",
       "\n",
       "       loss_of_smell                       Disease  \n",
       "0                  0              Fungal infection  \n",
       "1                  0              Fungal infection  \n",
       "2                  0              Fungal infection  \n",
       "3                  0              Fungal infection  \n",
       "4                  0              Fungal infection  \n",
       "...              ...                           ...  \n",
       "5404               0  Dimorphic hemmorhoids(piles)  \n",
       "5405               0          Cervical spondylosis  \n",
       "5406               0                          AIDS  \n",
       "5407               0                   Chicken pox  \n",
       "5408               0                     Pneumonia  \n",
       "\n",
       "[5409 rows x 144 columns]"
      ]
     },
     "execution_count": 2,
     "metadata": {},
     "output_type": "execute_result"
    }
   ],
   "source": [
    "url = 'https://raw.githubusercontent.com/maihadat/Disease-Prediction/topic/change_data_and-add_test_decision_tree/Data_sets/dataset.csv'\n",
    "df = pd.read_csv(url)\n",
    "df"
   ]
  },
  {
   "cell_type": "markdown",
   "metadata": {
    "id": "lIRwyzWk0yi1"
   },
   "source": [
    "We take the attributes of the dataset."
   ]
  },
  {
   "cell_type": "code",
   "execution_count": null,
   "metadata": {
    "colab": {
     "base_uri": "https://localhost:8080/"
    },
    "id": "HwHlcM_A1Auo",
    "outputId": "ff54a6b3-bae8-4d60-8c27-739e92f07afb"
   },
   "outputs": [
    {
     "data": {
      "text/plain": [
       "Index(['Unnamed: 0', 'Severity', 'itching', ' skin_rash',\n",
       "       ' continuous_sneezing', ' shivering', ' stomach_pain', ' acidity',\n",
       "       ' vomiting', ' indigestion',\n",
       "       ...\n",
       "       ' receiving_unsterile_injections', ' coma', ' sinus_pressure',\n",
       "       ' palpitations', ' stomach_bleeding', ' runny_nose', ' congestion',\n",
       "       ' blood_in_sputum', ' loss_of_smell', 'Disease'],\n",
       "      dtype='object', length=144)"
      ]
     },
     "execution_count": 3,
     "metadata": {},
     "output_type": "execute_result"
    }
   ],
   "source": [
    "df.columns"
   ]
  },
  {
   "cell_type": "markdown",
   "metadata": {
    "id": "pgsNkjv5bLl0"
   },
   "source": [
    "A sample case of datapoint\n"
   ]
  },
  {
   "cell_type": "code",
   "execution_count": null,
   "metadata": {
    "colab": {
     "base_uri": "https://localhost:8080/"
    },
    "id": "at1ZVE-sbRPl",
    "outputId": "3204e257-4c3a-4497-f4ee-a805ed1eaf66"
   },
   "outputs": [
    {
     "data": {
      "text/plain": [
       "array([0, 13, 0, 3, 0, 0, 0, 0, 0, 0, 0, 0, 0, 0, 0, 0, 0, 0, 0, 0, 0, 0,\n",
       "       0, 0, 0, 0, 0, 0, 0, 0, 0, 0, 0, 0, 0, 0, 0, 0, 0, 0, 0, 0, 4, 0,\n",
       "       0, 0, 0, 0, 0, 0, 0, 0, 0, 0, 0, 0, 0, 0, 0, 0, 0, 0, 0, 0, 0, 0,\n",
       "       0, 6, 0, 0, 0, 0, 0, 0, 0, 0, 0, 0, 0, 0, 0, 0, 0, 0, 0, 0, 0, 0,\n",
       "       0, 0, 0, 0, 0, 0, 0, 0, 0, 0, 0, 0, 0, 0, 0, 0, 0, 0, 0, 0, 0, 0,\n",
       "       0, 0, 0, 0, 0, 0, 0, 0, 0, 0, 0, 0, 0, 0, 0, 0, 0, 0, 0, 0, 0, 0,\n",
       "       0, 0, 0, 0, 0, 0, 0, 0, 0, 0, 0, 'Fungal infection'], dtype=object)"
      ]
     },
     "execution_count": 4,
     "metadata": {},
     "output_type": "execute_result"
    }
   ],
   "source": [
    "df.iloc[0].to_numpy()"
   ]
  },
  {
   "cell_type": "markdown",
   "metadata": {
    "id": "czMcpce-CwIy"
   },
   "source": [
    "Drop redundant column.\n"
   ]
  },
  {
   "cell_type": "code",
   "execution_count": null,
   "metadata": {
    "id": "Y9enZ5anscEd"
   },
   "outputs": [],
   "source": [
    "df.drop(columns='Unnamed: 0', inplace=True)"
   ]
  },
  {
   "cell_type": "markdown",
   "metadata": {
    "id": "F5m4DCCOtI3e"
   },
   "source": [
    "The number of diseases."
   ]
  },
  {
   "cell_type": "code",
   "execution_count": null,
   "metadata": {
    "colab": {
     "base_uri": "https://localhost:8080/"
    },
    "id": "Mzetq1M0y62_",
    "outputId": "af1ca022-1179-40e9-a36b-a43e1d09f20f"
   },
   "outputs": [
    {
     "data": {
      "text/plain": [
       "42"
      ]
     },
     "execution_count": 6,
     "metadata": {},
     "output_type": "execute_result"
    }
   ],
   "source": [
    "len(df['Disease'].unique())"
   ]
  },
  {
   "cell_type": "markdown",
   "metadata": {
    "id": "VFwHRVMgV26h"
   },
   "source": [
    "Symptoms in the datasets."
   ]
  },
  {
   "cell_type": "code",
   "execution_count": null,
   "metadata": {
    "colab": {
     "base_uri": "https://localhost:8080/"
    },
    "id": "IDhzBbqHtVll",
    "outputId": "b5aae97c-c505-4b8c-ea65-5aacebde0a48"
   },
   "outputs": [
    {
     "data": {
      "text/plain": [
       "[' abdominal_pain',\n",
       " ' abnormal_menstruation',\n",
       " ' acidity',\n",
       " ' acute_liver_failure',\n",
       " ' altered_sensorium',\n",
       " ' anxiety',\n",
       " ' back_pain',\n",
       " ' belly_pain',\n",
       " ' blackheads',\n",
       " ' bladder_discomfort',\n",
       " ' blister',\n",
       " ' blood_in_sputum',\n",
       " ' bloody_stool',\n",
       " ' blurred_and_distorted_vision',\n",
       " ' breathlessness',\n",
       " ' brittle_nails',\n",
       " ' bruising',\n",
       " ' burning_micturition',\n",
       " ' chest_pain',\n",
       " ' chills',\n",
       " ' cold_hands_and_feets',\n",
       " ' coma',\n",
       " ' congestion',\n",
       " ' constipation',\n",
       " ' continuous_feel_of_urine',\n",
       " ' continuous_sneezing',\n",
       " ' cough',\n",
       " ' cramps',\n",
       " ' dark_urine',\n",
       " ' dehydration',\n",
       " ' depression',\n",
       " ' diarrhoea',\n",
       " ' dischromic _patches',\n",
       " ' distention_of_abdomen',\n",
       " ' dizziness',\n",
       " ' drying_and_tingling_lips',\n",
       " ' enlarged_thyroid',\n",
       " ' excessive_hunger',\n",
       " ' extra_marital_contacts',\n",
       " ' family_history',\n",
       " ' fast_heart_rate',\n",
       " ' fatigue',\n",
       " ' fluid_overload',\n",
       " ' foul_smell_of urine',\n",
       " ' headache',\n",
       " ' high_fever',\n",
       " ' hip_joint_pain',\n",
       " ' history_of_alcohol_consumption',\n",
       " ' increased_appetite',\n",
       " ' indigestion',\n",
       " ' inflammatory_nails',\n",
       " ' internal_itching',\n",
       " ' irregular_sugar_level',\n",
       " ' irritability',\n",
       " ' irritation_in_anus',\n",
       " ' joint_pain',\n",
       " ' knee_pain',\n",
       " ' lack_of_concentration',\n",
       " ' lethargy',\n",
       " ' loss_of_appetite',\n",
       " ' loss_of_balance',\n",
       " ' loss_of_smell',\n",
       " ' malaise',\n",
       " ' mild_fever',\n",
       " ' mood_swings',\n",
       " ' movement_stiffness',\n",
       " ' mucoid_sputum',\n",
       " ' muscle_pain',\n",
       " ' muscle_wasting',\n",
       " ' muscle_weakness',\n",
       " ' nausea',\n",
       " ' neck_pain',\n",
       " ' nodal_skin_eruptions',\n",
       " ' obesity',\n",
       " ' pain_behind_the_eyes',\n",
       " ' pain_during_bowel_movements',\n",
       " ' pain_in_anal_region',\n",
       " ' painful_walking',\n",
       " ' palpitations',\n",
       " ' passage_of_gases',\n",
       " ' patches_in_throat',\n",
       " ' phlegm',\n",
       " ' polyuria',\n",
       " ' prominent_veins_on_calf',\n",
       " ' puffy_face_and_eyes',\n",
       " ' pus_filled_pimples',\n",
       " ' receiving_blood_transfusion',\n",
       " ' receiving_unsterile_injections',\n",
       " ' red_sore_around_nose',\n",
       " ' red_spots_over_body',\n",
       " ' redness_of_eyes',\n",
       " ' restlessness',\n",
       " ' runny_nose',\n",
       " ' rusty_sputum',\n",
       " ' scurring',\n",
       " ' shivering',\n",
       " ' silver_like_dusting',\n",
       " ' sinus_pressure',\n",
       " ' skin_peeling',\n",
       " ' skin_rash',\n",
       " ' slurred_speech',\n",
       " ' small_dents_in_nails',\n",
       " ' spinning_movements',\n",
       " ' spotting_ urination',\n",
       " ' stiff_neck',\n",
       " ' stomach_bleeding',\n",
       " ' stomach_pain',\n",
       " ' sunken_eyes',\n",
       " ' sweating',\n",
       " ' swelled_lymph_nodes',\n",
       " ' swelling_joints',\n",
       " ' swelling_of_stomach',\n",
       " ' swollen_blood_vessels',\n",
       " ' swollen_extremeties',\n",
       " ' swollen_legs',\n",
       " ' throat_irritation',\n",
       " ' toxic_look_(typhos)',\n",
       " ' ulcers_on_tongue',\n",
       " ' unsteadiness',\n",
       " ' visual_disturbances',\n",
       " ' vomiting',\n",
       " ' watering_from_eyes',\n",
       " ' weakness_in_limbs',\n",
       " ' weakness_of_one_body_side',\n",
       " ' weight_gain',\n",
       " ' weight_loss',\n",
       " ' yellow_crust_ooze',\n",
       " ' yellow_urine',\n",
       " ' yellowing_of_eyes',\n",
       " ' yellowish_skin',\n",
       " 'Diarrhea',\n",
       " 'Difficulty-in-Breathing',\n",
       " 'Dry-Cough',\n",
       " 'Fever',\n",
       " 'Nasal-Congestion',\n",
       " 'None_Sympton',\n",
       " 'Pains',\n",
       " 'Runny-Nose',\n",
       " 'Severity',\n",
       " 'Sore-Throat',\n",
       " 'Tiredness',\n",
       " 'itching']"
      ]
     },
     "execution_count": 7,
     "metadata": {},
     "output_type": "execute_result"
    }
   ],
   "source": [
    "sorted(df.columns.tolist()[:-1])"
   ]
  },
  {
   "cell_type": "markdown",
   "metadata": {
    "id": "E1OHyieCcm-Q"
   },
   "source": [
    "Number of each disease cases in the dataset."
   ]
  },
  {
   "cell_type": "code",
   "execution_count": null,
   "metadata": {
    "colab": {
     "base_uri": "https://localhost:8080/",
     "height": 1000
    },
    "id": "xXtwt3Dkcr2T",
    "outputId": "17573aa4-ac6f-4c1f-bb5c-46a661d90c75"
   },
   "outputs": [
    {
     "name": "stdout",
     "output_type": "stream",
     "text": [
      "Covid                                      244\n",
      "Allergy                                    136\n",
      "Migraine                                   131\n",
      "Urinary tract infection                    130\n",
      "Hepatitis C                                130\n",
      "Hyperthyroidism                            129\n",
      "Diabetes                                   129\n",
      "Impetigo                                   129\n",
      "Hypothyroidism                             128\n",
      "Malaria                                    127\n",
      "AIDS                                       127\n",
      "Jaundice                                   127\n",
      "Pneumonia                                  127\n",
      "Hepatitis D                                126\n",
      "Acne                                       126\n",
      "Hepatitis B                                126\n",
      "Typhoid                                    126\n",
      "(vertigo) Paroymsal  Positional Vertigo    126\n",
      "Chicken pox                                126\n",
      "Hypoglycemia                               126\n",
      "Bronchial Asthma                           126\n",
      "Gastroenteritis                            126\n",
      "Tuberculosis                               126\n",
      "Osteoarthristis                            125\n",
      "Arthritis                                  125\n",
      "Heart attack                               125\n",
      "Fungal infection                           125\n",
      "Drug Reaction                              125\n",
      "Hypertension                               125\n",
      "Chronic cholestasis                        125\n",
      "Psoriasis                                  124\n",
      "Dimorphic hemmorhoids(piles)               124\n",
      "Alcoholic hepatitis                        124\n",
      "hepatitis A                                124\n",
      "Dengue                                     124\n",
      "Paralysis (brain hemorrhage)               124\n",
      "GERD                                       123\n",
      "Peptic ulcer diseae                        123\n",
      "Common Cold                                123\n",
      "Cervical spondylosis                       123\n",
      "Varicose veins                             122\n",
      "Hepatitis E                                122\n",
      "Name: Disease, dtype: int64\n"
     ]
    },
    {
     "data": {
      "image/png": "[encoded data removed]",
      "text/plain": [
       "<Figure size 1296x576 with 1 Axes>"
      ]
     },
     "metadata": {
      "needs_background": "light"
     },
     "output_type": "display_data"
    }
   ],
   "source": [
    "disease_counts = df[\"Disease\"].value_counts()\n",
    "print(disease_counts)\n",
    "\n",
    "temp_df = pd.DataFrame({\"Disease\": disease_counts.index,\"Counts\": disease_counts.values})\n",
    "\n",
    "plt.figure(figsize = (18,8))\n",
    "sns.barplot(x = \"Disease\", y = \"Counts\", data = temp_df)\n",
    "plt.xticks(rotation=90)\n",
    "plt.show()"
   ]
  },
  {
   "cell_type": "markdown",
   "metadata": {
    "id": "y_SFDaoDdgTz"
   },
   "source": [
    "Except for the covid data, other diseases have almost the same number of cases."
   ]
  },
  {
   "cell_type": "markdown",
   "metadata": {
    "id": "Jc2TwbVpC3X_"
   },
   "source": [
    "**Check if there is null or nan value**"
   ]
  },
  {
   "cell_type": "code",
   "execution_count": null,
   "metadata": {
    "colab": {
     "base_uri": "https://localhost:8080/"
    },
    "id": "-mu_MlH5znTr",
    "outputId": "fe512868-91b7-4148-f779-e13e45ffb61d"
   },
   "outputs": [
    {
     "data": {
      "text/plain": [
       "0"
      ]
     },
     "execution_count": 9,
     "metadata": {},
     "output_type": "execute_result"
    }
   ],
   "source": [
    "sum(df.isna().sum())"
   ]
  },
  {
   "cell_type": "code",
   "execution_count": null,
   "metadata": {
    "colab": {
     "base_uri": "https://localhost:8080/"
    },
    "id": "r-vLh9oly4e1",
    "outputId": "c92e1cee-c6d2-49ba-aeab-3d54eb1d3601"
   },
   "outputs": [
    {
     "data": {
      "text/plain": [
       "0"
      ]
     },
     "execution_count": 10,
     "metadata": {},
     "output_type": "execute_result"
    }
   ],
   "source": [
    "sum(df.isnull().sum())"
   ]
  },
  {
   "cell_type": "markdown",
   "metadata": {
    "id": "wR2k3iXPDcj-"
   },
   "source": [
    "Encode the label."
   ]
  },
  {
   "cell_type": "code",
   "execution_count": null,
   "metadata": {
    "id": "v7wRVtYWAJBw"
   },
   "outputs": [],
   "source": [
    "encoder = LabelEncoder()\n",
    "df[\"Disease\"] = encoder.fit_transform(df[\"Disease\"])"
   ]
  },
  {
   "cell_type": "markdown",
   "metadata": {
    "id": "IrwslHgMzprU"
   },
   "source": [
    "We can see that the data is quite clear and since it is a small dataset, it can lead to high accuracy."
   ]
  },
  {
   "cell_type": "markdown",
   "metadata": {
    "id": "qWl0Z0wltpkc"
   },
   "source": [
    "**Train and test set split**"
   ]
  },
  {
   "cell_type": "code",
   "execution_count": null,
   "metadata": {
    "colab": {
     "base_uri": "https://localhost:8080/"
    },
    "id": "2zAJl8pSscEe",
    "outputId": "a82f498f-256f-4c42-88b9-d823d613c950"
   },
   "outputs": [
    {
     "name": "stdout",
     "output_type": "stream",
     "text": [
      "The number of datapoints in training set, test set:\n",
      "4327, 1082\n"
     ]
    }
   ],
   "source": [
    "from sklearn.model_selection import train_test_split\n",
    "\n",
    "X = df.iloc[:, 1:-1]\n",
    "Y = df.iloc[:, -1]\n",
    "X_train, X_test, Y_train, Y_test = train_test_split(X, Y, test_size=0.2, shuffle=True)\n",
    "print(\"The number of datapoints in training set, test set:\\n\" + str(len(X_train)) + \", \" + str(len(X_test)))"
   ]
  }
 ],
 "metadata": {
  "colab": {
   "collapsed_sections": [],
   "name": "Disease Prediction.ipynb",
   "provenance": []
  },
  "kernelspec": {
   "display_name": "Python 3",
   "language": "python",
   "name": "python3"
  },
  "language_info": {
   "codemirror_mode": {
    "name": "ipython",
    "version": 3
   },
   "file_extension": ".py",
   "mimetype": "text/x-python",
   "name": "python",
   "nbconvert_exporter": "python",
   "pygments_lexer": "ipython3",
   "version": "3.8.5"
  }
 },
 "nbformat": 4,
 "nbformat_minor": 1
}
